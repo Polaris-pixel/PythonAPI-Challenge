{
 "cells": [
  {
   "cell_type": "markdown",
   "metadata": {},
   "source": [
    "# WeatherPy\n",
    "----\n",
    "\n",
    "#### Note\n",
    "* Instructions have been included for each segment. You do not have to follow them exactly, but they are included to help you think through the steps."
   ]
  },
  {
   "cell_type": "code",
   "execution_count": 1,
   "metadata": {
    "scrolled": true
   },
   "outputs": [],
   "source": [
    "# Dependencies and Setup\n",
    "import matplotlib.pyplot as plt\n",
    "import pandas as pd\n",
    "import numpy as np\n",
    "import requests\n",
    "import time\n",
    "import json\n",
    "from scipy.stats import linregress\n",
    "\n",
    "# Import API key\n",
    "from api_keys import weather_api_key\n",
    "\n",
    "# Incorporated citipy to determine city based on latitude and longitude\n",
    "from citipy import citipy\n",
    "\n",
    "\n",
    "\n",
    "# Output File (CSV)\n",
    "output_data_file = \"output_data/cities_new.csv\"\n",
    "\n",
    "# Range of latitudes and longitudes\n",
    "lat_range = (-90, 90)\n",
    "lng_range = (-180, 180)"
   ]
  },
  {
   "cell_type": "markdown",
   "metadata": {},
   "source": [
    "## Generate Cities List"
   ]
  },
  {
   "cell_type": "code",
   "execution_count": 2,
   "metadata": {},
   "outputs": [
    {
     "data": {
      "text/plain": [
       "605"
      ]
     },
     "execution_count": 2,
     "metadata": {},
     "output_type": "execute_result"
    }
   ],
   "source": [
    "# List for holding lat_lngs and cities\n",
    "lat_lngs = []\n",
    "cities = []\n",
    "\n",
    "# Create a set of random lat and lng combinations\n",
    "lats = np.random.uniform(lat_range[0], lat_range[1], size=1500)\n",
    "lngs = np.random.uniform(lng_range[0], lng_range[1], size=1500)\n",
    "lat_lngs = zip(lats, lngs)\n",
    "\n",
    "# Identify nearest city for each lat, lng combination\n",
    "for lat_lng in lat_lngs:\n",
    "    city = citipy.nearest_city(lat_lng[0], lat_lng[1]).city_name\n",
    "    \n",
    "    # If the city is unique, then add it to a our cities list\n",
    "    if city not in cities:\n",
    "        cities.append(city)\n",
    "\n",
    "# Print the city count to confirm sufficient count\n",
    "len(cities)"
   ]
  },
  {
   "cell_type": "code",
   "execution_count": 3,
   "metadata": {},
   "outputs": [],
   "source": [
    "# Save config information\n",
    "url = \"http://api.openweathermap.org/data/2.5/weather?\"\n",
    "\n",
    "#city = 'London'\n",
    "# Build query URL\n",
    "query_url = url + \"appid=\" + weather_api_key + \"&q=\""
   ]
  },
  {
   "cell_type": "code",
   "execution_count": 4,
   "metadata": {},
   "outputs": [],
   "source": [
    "# Get weather data\n",
    "\n",
    "# weather_response = requests.get(query_url)\n",
    "# weather_json = weather_response.json()\n",
    "#print(json.dumps(weather_json, indent=4, sort_keys=True))"
   ]
  },
  {
   "cell_type": "markdown",
   "metadata": {},
   "source": [
    "### Perform API Calls\n",
    "* Perform a weather check on each city using a series of successive API calls.\n",
    "* Include a print log of each city as it'sbeing processed (with the city number and city name).\n"
   ]
  },
  {
   "cell_type": "code",
   "execution_count": 5,
   "metadata": {
    "scrolled": true
   },
   "outputs": [
    {
     "name": "stdout",
     "output_type": "stream",
     "text": [
      "Did not find the city...go to the next!!\n",
      "Did not find the city...go to the next!!\n",
      "Did not find the city...go to the next!!\n",
      "Did not find the city...go to the next!!\n",
      "Did not find the city...go to the next!!\n",
      "Did not find the city...go to the next!!\n",
      "Did not find the city...go to the next!!\n",
      "Did not find the city...go to the next!!\n",
      "Did not find the city...go to the next!!\n",
      "Did not find the city...go to the next!!\n",
      "Did not find the city...go to the next!!\n",
      "Did not find the city...go to the next!!\n",
      "Did not find the city...go to the next!!\n",
      "Did not find the city...go to the next!!\n",
      "Did not find the city...go to the next!!\n",
      "Did not find the city...go to the next!!\n",
      "Did not find the city...go to the next!!\n",
      "Did not find the city...go to the next!!\n",
      "Did not find the city...go to the next!!\n",
      "Did not find the city...go to the next!!\n",
      "Did not find the city...go to the next!!\n",
      "Did not find the city...go to the next!!\n",
      "Did not find the city...go to the next!!\n",
      "Did not find the city...go to the next!!\n",
      "Did not find the city...go to the next!!\n",
      "Did not find the city...go to the next!!\n",
      "Did not find the city...go to the next!!\n",
      "Did not find the city...go to the next!!\n",
      "Did not find the city...go to the next!!\n",
      "Did not find the city...go to the next!!\n",
      "Did not find the city...go to the next!!\n",
      "Did not find the city...go to the next!!\n",
      "Did not find the city...go to the next!!\n",
      "Did not find the city...go to the next!!\n",
      "Did not find the city...go to the next!!\n",
      "Did not find the city...go to the next!!\n",
      "Did not find the city...go to the next!!\n",
      "Did not find the city...go to the next!!\n",
      "Did not find the city...go to the next!!\n",
      "Did not find the city...go to the next!!\n",
      "Did not find the city...go to the next!!\n",
      "Did not find the city...go to the next!!\n",
      "Did not find the city...go to the next!!\n",
      "Did not find the city...go to the next!!\n",
      "Did not find the city...go to the next!!\n",
      "Did not find the city...go to the next!!\n",
      "Did not find the city...go to the next!!\n",
      "Did not find the city...go to the next!!\n",
      "Did not find the city...go to the next!!\n",
      "Did not find the city...go to the next!!\n"
     ]
    }
   ],
   "source": [
    "City = []\n",
    "Lat = []\n",
    "Lng = []\n",
    "MaxTemp = []\n",
    "Humidity = []\n",
    "Cloudiness = []\n",
    "WindSpeed = []\n",
    "Country = []\n",
    "Date =[]\n",
    "\n",
    "\n",
    "# print(\"Beginning Data Retrieval\")\n",
    "# print(\"----------------------------\")\n",
    "# counter = 1\n",
    "# set = 1\n",
    "# for city in cities:\n",
    "    \n",
    "#     #try: \n",
    "#         weather_json = requests.get(query_url+city).json()\n",
    "\n",
    "#         City.append(weather_response[\"name\"])\n",
    "#         Lat.append(weather_response[\"coord\"][\"lat\"])\n",
    "#         Lng.append(weather_response[\"coord\"][\"lon\"])\n",
    "#         MaxTemp.append(weather_response[\"main\"][\"temp_max\"])\n",
    "#         Humidity.append(weather_response[\"main\"][\"humidity\"])\n",
    "#         Cloudiness.append(weather_response[\"clouds\"]['all'])\n",
    "#         WindSpeed.append(weather_response[\"wind\"][\"speed\"])\n",
    "#         Country.append(weather_response[\"sys\"][\"country\"])\n",
    "#         Date.append(weather_response[\"dt\"])\n",
    "# #         print(f'Processing Record {counter} of Set {set} | {city}')\n",
    "# #         counter = counter + 1\n",
    "# #         if (counter == 50):\n",
    "# #             counter = 0\n",
    "# #             set = set+1\n",
    "# #     except:\n",
    "# #         print(\"Did not find the city...go to the next!!\")\n",
    "# #         continue  \n",
    "# # print (\"-----------------------------\")\n",
    "# # print(\"Data Retrieval Complete\")      \n",
    "# # print(\"-----------------------------\")   \n",
    "\n",
    "for city in cities:\n",
    "    \n",
    "    try:\n",
    "    \n",
    "        weather_json = requests.get(query_url+city).json()\n",
    "           \n",
    "        City.append(weather_json[\"name\"])\n",
    "        Lat.append(weather_json[\"coord\"][\"lat\"])\n",
    "        Lng.append(weather_json[\"coord\"][\"lon\"])\n",
    "        MaxTemp.append(weather_json[\"main\"][\"temp_max\"])\n",
    "        Humidity.append(weather_json[\"main\"][\"humidity\"])\n",
    "        Cloudiness.append(weather_json[\"clouds\"]['all'])\n",
    "        WindSpeed.append(weather_json[\"wind\"][\"speed\"])\n",
    "        Country.append(weather_json[\"sys\"][\"country\"])\n",
    "        Date.append(weather_json[\"dt\"])\n",
    "        \n",
    "    except:\n",
    "        print(\"Did not find the city...go to the next!!\")\n",
    "        continue \n",
    "        \n",
    "     "
   ]
  },
  {
   "cell_type": "markdown",
   "metadata": {},
   "source": [
    "### Convert Raw Data to DataFrame\n",
    "* Export the city data into a .csv.\n",
    "* Display the DataFrame"
   ]
  },
  {
   "cell_type": "code",
   "execution_count": 6,
   "metadata": {},
   "outputs": [
    {
     "data": {
      "text/html": [
       "<div>\n",
       "<style scoped>\n",
       "    .dataframe tbody tr th:only-of-type {\n",
       "        vertical-align: middle;\n",
       "    }\n",
       "\n",
       "    .dataframe tbody tr th {\n",
       "        vertical-align: top;\n",
       "    }\n",
       "\n",
       "    .dataframe thead th {\n",
       "        text-align: right;\n",
       "    }\n",
       "</style>\n",
       "<table border=\"1\" class=\"dataframe\">\n",
       "  <thead>\n",
       "    <tr style=\"text-align: right;\">\n",
       "      <th></th>\n",
       "      <th>City</th>\n",
       "      <th>Lat</th>\n",
       "      <th>Lng</th>\n",
       "      <th>Max Temp</th>\n",
       "      <th>Humidity</th>\n",
       "      <th>Cloudiness</th>\n",
       "      <th>Wind Speed</th>\n",
       "      <th>Country</th>\n",
       "      <th>Date</th>\n",
       "    </tr>\n",
       "  </thead>\n",
       "  <tbody>\n",
       "    <tr>\n",
       "      <th>0</th>\n",
       "      <td>Rikitea</td>\n",
       "      <td>-23.12</td>\n",
       "      <td>-134.97</td>\n",
       "      <td>293.44</td>\n",
       "      <td>91</td>\n",
       "      <td>100</td>\n",
       "      <td>6.18</td>\n",
       "      <td>PF</td>\n",
       "      <td>1605805427</td>\n",
       "    </tr>\n",
       "    <tr>\n",
       "      <th>1</th>\n",
       "      <td>Hermanus</td>\n",
       "      <td>-34.42</td>\n",
       "      <td>19.23</td>\n",
       "      <td>293.15</td>\n",
       "      <td>61</td>\n",
       "      <td>0</td>\n",
       "      <td>2.68</td>\n",
       "      <td>ZA</td>\n",
       "      <td>1605805424</td>\n",
       "    </tr>\n",
       "    <tr>\n",
       "      <th>2</th>\n",
       "      <td>Touros</td>\n",
       "      <td>-5.20</td>\n",
       "      <td>-35.46</td>\n",
       "      <td>303.15</td>\n",
       "      <td>66</td>\n",
       "      <td>40</td>\n",
       "      <td>6.70</td>\n",
       "      <td>BR</td>\n",
       "      <td>1605805435</td>\n",
       "    </tr>\n",
       "    <tr>\n",
       "      <th>3</th>\n",
       "      <td>Marrakesh</td>\n",
       "      <td>31.63</td>\n",
       "      <td>-8.01</td>\n",
       "      <td>300.15</td>\n",
       "      <td>21</td>\n",
       "      <td>40</td>\n",
       "      <td>3.10</td>\n",
       "      <td>MA</td>\n",
       "      <td>1605805504</td>\n",
       "    </tr>\n",
       "    <tr>\n",
       "      <th>4</th>\n",
       "      <td>Ushuaia</td>\n",
       "      <td>-54.80</td>\n",
       "      <td>-68.30</td>\n",
       "      <td>285.15</td>\n",
       "      <td>62</td>\n",
       "      <td>75</td>\n",
       "      <td>8.70</td>\n",
       "      <td>AR</td>\n",
       "      <td>1605805195</td>\n",
       "    </tr>\n",
       "    <tr>\n",
       "      <th>...</th>\n",
       "      <td>...</td>\n",
       "      <td>...</td>\n",
       "      <td>...</td>\n",
       "      <td>...</td>\n",
       "      <td>...</td>\n",
       "      <td>...</td>\n",
       "      <td>...</td>\n",
       "      <td>...</td>\n",
       "      <td>...</td>\n",
       "    </tr>\n",
       "    <tr>\n",
       "      <th>550</th>\n",
       "      <td>Tarnogskiy Gorodok</td>\n",
       "      <td>60.50</td>\n",
       "      <td>43.58</td>\n",
       "      <td>278.67</td>\n",
       "      <td>82</td>\n",
       "      <td>100</td>\n",
       "      <td>7.42</td>\n",
       "      <td>RU</td>\n",
       "      <td>1605805637</td>\n",
       "    </tr>\n",
       "    <tr>\n",
       "      <th>551</th>\n",
       "      <td>Opuwo</td>\n",
       "      <td>-18.06</td>\n",
       "      <td>13.84</td>\n",
       "      <td>302.89</td>\n",
       "      <td>20</td>\n",
       "      <td>59</td>\n",
       "      <td>5.45</td>\n",
       "      <td>NA</td>\n",
       "      <td>1605805637</td>\n",
       "    </tr>\n",
       "    <tr>\n",
       "      <th>552</th>\n",
       "      <td>Kharp</td>\n",
       "      <td>66.80</td>\n",
       "      <td>65.81</td>\n",
       "      <td>262.60</td>\n",
       "      <td>93</td>\n",
       "      <td>61</td>\n",
       "      <td>2.26</td>\n",
       "      <td>RU</td>\n",
       "      <td>1605805637</td>\n",
       "    </tr>\n",
       "    <tr>\n",
       "      <th>553</th>\n",
       "      <td>Japura</td>\n",
       "      <td>-0.32</td>\n",
       "      <td>102.35</td>\n",
       "      <td>296.53</td>\n",
       "      <td>98</td>\n",
       "      <td>98</td>\n",
       "      <td>1.31</td>\n",
       "      <td>ID</td>\n",
       "      <td>1605805638</td>\n",
       "    </tr>\n",
       "    <tr>\n",
       "      <th>554</th>\n",
       "      <td>Gao</td>\n",
       "      <td>16.64</td>\n",
       "      <td>1.64</td>\n",
       "      <td>300.87</td>\n",
       "      <td>15</td>\n",
       "      <td>53</td>\n",
       "      <td>4.81</td>\n",
       "      <td>ML</td>\n",
       "      <td>1605805483</td>\n",
       "    </tr>\n",
       "  </tbody>\n",
       "</table>\n",
       "<p>555 rows × 9 columns</p>\n",
       "</div>"
      ],
      "text/plain": [
       "                   City    Lat     Lng  Max Temp  Humidity  Cloudiness  \\\n",
       "0               Rikitea -23.12 -134.97    293.44        91         100   \n",
       "1              Hermanus -34.42   19.23    293.15        61           0   \n",
       "2                Touros  -5.20  -35.46    303.15        66          40   \n",
       "3             Marrakesh  31.63   -8.01    300.15        21          40   \n",
       "4               Ushuaia -54.80  -68.30    285.15        62          75   \n",
       "..                  ...    ...     ...       ...       ...         ...   \n",
       "550  Tarnogskiy Gorodok  60.50   43.58    278.67        82         100   \n",
       "551               Opuwo -18.06   13.84    302.89        20          59   \n",
       "552               Kharp  66.80   65.81    262.60        93          61   \n",
       "553              Japura  -0.32  102.35    296.53        98          98   \n",
       "554                 Gao  16.64    1.64    300.87        15          53   \n",
       "\n",
       "     Wind Speed Country        Date  \n",
       "0          6.18      PF  1605805427  \n",
       "1          2.68      ZA  1605805424  \n",
       "2          6.70      BR  1605805435  \n",
       "3          3.10      MA  1605805504  \n",
       "4          8.70      AR  1605805195  \n",
       "..          ...     ...         ...  \n",
       "550        7.42      RU  1605805637  \n",
       "551        5.45      NA  1605805637  \n",
       "552        2.26      RU  1605805637  \n",
       "553        1.31      ID  1605805638  \n",
       "554        4.81      ML  1605805483  \n",
       "\n",
       "[555 rows x 9 columns]"
      ]
     },
     "execution_count": 6,
     "metadata": {},
     "output_type": "execute_result"
    }
   ],
   "source": [
    "main_df = pd.DataFrame({\n",
    "    \"City\":City, 'Lat':Lat, 'Lng':Lng, 'Max Temp':MaxTemp,'Humidity':Humidity, \n",
    "    'Cloudiness':Cloudiness, 'Wind Speed':WindSpeed, 'Country':Country, 'Date':Date\n",
    "    })\n",
    "main_df"
   ]
  },
  {
   "cell_type": "markdown",
   "metadata": {},
   "source": [
    "## Inspect the data and remove the cities where the humidity > 100%.\n",
    "----\n",
    "Skip this step if there are no cities that have humidity > 100%. "
   ]
  },
  {
   "cell_type": "code",
   "execution_count": 8,
   "metadata": {},
   "outputs": [
    {
     "data": {
      "text/plain": [
       "Int64Index([], dtype='int64')"
      ]
     },
     "execution_count": 8,
     "metadata": {},
     "output_type": "execute_result"
    }
   ],
   "source": [
    "main_df['Humidity'].describe()\n",
    "humidity_more100 = main_df.loc[main_df[\"Humidity\"] >100].index\n",
    "humidity_more100\n",
    "\n",
    "#main_df['Humidity'].describe()"
   ]
  },
  {
   "cell_type": "code",
   "execution_count": 9,
   "metadata": {},
   "outputs": [
    {
     "data": {
      "text/plain": [
       "Int64Index([], dtype='int64')"
      ]
     },
     "execution_count": 9,
     "metadata": {},
     "output_type": "execute_result"
    }
   ],
   "source": [
    "#  Get the indices of cities that have humidity over 100%.\n",
    "humidity_more100_opt2 = main_df[main_df[\"Humidity\"] >100].index\n",
    "humidity_more100_opt2\n",
    "# base on the my code above.. there is no city with humidity greater than 100"
   ]
  },
  {
   "cell_type": "code",
   "execution_count": null,
   "metadata": {},
   "outputs": [],
   "source": [
    "# Make a new DataFrame equal to the city data to drop all humidity outliers by index.\n",
    "# Passing \"inplace=False\" will make a copy of the city_data DataFrame, which we call \"clean_city_data\".\n"
   ]
  },
  {
   "cell_type": "code",
   "execution_count": 11,
   "metadata": {},
   "outputs": [
    {
     "data": {
      "text/html": [
       "<div>\n",
       "<style scoped>\n",
       "    .dataframe tbody tr th:only-of-type {\n",
       "        vertical-align: middle;\n",
       "    }\n",
       "\n",
       "    .dataframe tbody tr th {\n",
       "        vertical-align: top;\n",
       "    }\n",
       "\n",
       "    .dataframe thead th {\n",
       "        text-align: right;\n",
       "    }\n",
       "</style>\n",
       "<table border=\"1\" class=\"dataframe\">\n",
       "  <thead>\n",
       "    <tr style=\"text-align: right;\">\n",
       "      <th></th>\n",
       "      <th>City</th>\n",
       "      <th>Lat</th>\n",
       "      <th>Lng</th>\n",
       "      <th>Max Temp</th>\n",
       "      <th>Humidity</th>\n",
       "      <th>Cloudiness</th>\n",
       "      <th>Wind Speed</th>\n",
       "      <th>Country</th>\n",
       "      <th>Date</th>\n",
       "    </tr>\n",
       "  </thead>\n",
       "  <tbody>\n",
       "    <tr>\n",
       "      <th>0</th>\n",
       "      <td>Rikitea</td>\n",
       "      <td>-23.12</td>\n",
       "      <td>-134.97</td>\n",
       "      <td>293.44</td>\n",
       "      <td>91</td>\n",
       "      <td>100</td>\n",
       "      <td>6.18</td>\n",
       "      <td>PF</td>\n",
       "      <td>1605805427</td>\n",
       "    </tr>\n",
       "    <tr>\n",
       "      <th>1</th>\n",
       "      <td>Hermanus</td>\n",
       "      <td>-34.42</td>\n",
       "      <td>19.23</td>\n",
       "      <td>293.15</td>\n",
       "      <td>61</td>\n",
       "      <td>0</td>\n",
       "      <td>2.68</td>\n",
       "      <td>ZA</td>\n",
       "      <td>1605805424</td>\n",
       "    </tr>\n",
       "    <tr>\n",
       "      <th>2</th>\n",
       "      <td>Touros</td>\n",
       "      <td>-5.20</td>\n",
       "      <td>-35.46</td>\n",
       "      <td>303.15</td>\n",
       "      <td>66</td>\n",
       "      <td>40</td>\n",
       "      <td>6.70</td>\n",
       "      <td>BR</td>\n",
       "      <td>1605805435</td>\n",
       "    </tr>\n",
       "    <tr>\n",
       "      <th>3</th>\n",
       "      <td>Marrakesh</td>\n",
       "      <td>31.63</td>\n",
       "      <td>-8.01</td>\n",
       "      <td>300.15</td>\n",
       "      <td>21</td>\n",
       "      <td>40</td>\n",
       "      <td>3.10</td>\n",
       "      <td>MA</td>\n",
       "      <td>1605805504</td>\n",
       "    </tr>\n",
       "    <tr>\n",
       "      <th>4</th>\n",
       "      <td>Ushuaia</td>\n",
       "      <td>-54.80</td>\n",
       "      <td>-68.30</td>\n",
       "      <td>285.15</td>\n",
       "      <td>62</td>\n",
       "      <td>75</td>\n",
       "      <td>8.70</td>\n",
       "      <td>AR</td>\n",
       "      <td>1605805195</td>\n",
       "    </tr>\n",
       "  </tbody>\n",
       "</table>\n",
       "</div>"
      ],
      "text/plain": [
       "        City    Lat     Lng  Max Temp  Humidity  Cloudiness  Wind Speed  \\\n",
       "0    Rikitea -23.12 -134.97    293.44        91         100        6.18   \n",
       "1   Hermanus -34.42   19.23    293.15        61           0        2.68   \n",
       "2     Touros  -5.20  -35.46    303.15        66          40        6.70   \n",
       "3  Marrakesh  31.63   -8.01    300.15        21          40        3.10   \n",
       "4    Ushuaia -54.80  -68.30    285.15        62          75        8.70   \n",
       "\n",
       "  Country        Date  \n",
       "0      PF  1605805427  \n",
       "1      ZA  1605805424  \n",
       "2      BR  1605805435  \n",
       "3      MA  1605805504  \n",
       "4      AR  1605805195  "
      ]
     },
     "execution_count": 11,
     "metadata": {},
     "output_type": "execute_result"
    }
   ],
   "source": [
    "clean_humidity = main_df.drop(humidity_more100, inplace = False)\n",
    "\n",
    "clean_humidity[\"Humidity\"].describe()\n",
    "\n",
    "clean_humidity.head()\n"
   ]
  },
  {
   "cell_type": "markdown",
   "metadata": {},
   "source": [
    "## Plotting the Data\n",
    "* Use proper labeling of the plots using plot titles (including date of analysis) and axes labels.\n",
    "* Save the plotted figures as .pngs."
   ]
  },
  {
   "cell_type": "markdown",
   "metadata": {},
   "source": [
    "## Latitude vs. Temperature Plot"
   ]
  },
  {
   "cell_type": "code",
   "execution_count": 14,
   "metadata": {
    "scrolled": true
   },
   "outputs": [
    {
     "data": {
      "text/plain": [
       "<matplotlib.collections.PathCollection at 0x2566f9cf550>"
      ]
     },
     "execution_count": 14,
     "metadata": {},
     "output_type": "execute_result"
    },
    {
     "data": {
      "image/png": "[encoded data removed]",
      "text/plain": [
       "<Figure size 432x288 with 1 Axes>"
      ]
     },
     "metadata": {
      "needs_background": "light"
     },
     "output_type": "display_data"
    }
   ],
   "source": [
    "plt.scatter(clean_humidity['Lat'], clean_humidity['Max Temp'])"
   ]
  },
  {
   "cell_type": "markdown",
   "metadata": {},
   "source": [
    "## Latitude vs. Humidity Plot"
   ]
  },
  {
   "cell_type": "code",
   "execution_count": 15,
   "metadata": {},
   "outputs": [
    {
     "data": {
      "text/plain": [
       "<matplotlib.collections.PathCollection at 0x2566fa30280>"
      ]
     },
     "execution_count": 15,
     "metadata": {},
     "output_type": "execute_result"
    },
    {
     "data": {
      "image/png": "[encoded data removed]",
      "text/plain": [
       "<Figure size 432x288 with 1 Axes>"
      ]
     },
     "metadata": {
      "needs_background": "light"
     },
     "output_type": "display_data"
    }
   ],
   "source": [
    "plt.scatter(clean_humidity['Lat'], clean_humidity['Humidity'])"
   ]
  },
  {
   "cell_type": "markdown",
   "metadata": {},
   "source": [
    "## Latitude vs. Cloudiness Plot"
   ]
  },
  {
   "cell_type": "code",
   "execution_count": 16,
   "metadata": {},
   "outputs": [
    {
     "data": {
      "text/plain": [
       "<matplotlib.collections.PathCollection at 0x2566fa7fd30>"
      ]
     },
     "execution_count": 16,
     "metadata": {},
     "output_type": "execute_result"
    },
    {
     "data": {
      "image/png": "[encoded data removed]",
      "text/plain": [
       "<Figure size 432x288 with 1 Axes>"
      ]
     },
     "metadata": {
      "needs_background": "light"
     },
     "output_type": "display_data"
    }
   ],
   "source": [
    "plt.scatter(clean_humidity['Lat'], clean_humidity['Cloudiness'])"
   ]
  },
  {
   "cell_type": "markdown",
   "metadata": {},
   "source": [
    "## Latitude vs. Wind Speed Plot"
   ]
  },
  {
   "cell_type": "code",
   "execution_count": 17,
   "metadata": {},
   "outputs": [
    {
     "data": {
      "text/plain": [
       "<matplotlib.collections.PathCollection at 0x2566fadaee0>"
      ]
     },
     "execution_count": 17,
     "metadata": {},
     "output_type": "execute_result"
    },
    {
     "data": {
      "image/png": "[encoded data removed]",
      "text/plain": [
       "<Figure size 432x288 with 1 Axes>"
      ]
     },
     "metadata": {
      "needs_background": "light"
     },
     "output_type": "display_data"
    }
   ],
   "source": [
    "plt.scatter(clean_humidity['Lat'], clean_humidity['Wind Speed'])"
   ]
  },
  {
   "cell_type": "markdown",
   "metadata": {},
   "source": [
    "## Linear Regression"
   ]
  },
  {
   "cell_type": "code",
   "execution_count": null,
   "metadata": {},
   "outputs": [],
   "source": []
  },
  {
   "cell_type": "markdown",
   "metadata": {},
   "source": [
    "####  Northern Hemisphere - Max Temp vs. Latitude Linear Regression"
   ]
  },
  {
   "cell_type": "code",
   "execution_count": 45,
   "metadata": {},
   "outputs": [
    {
     "name": "stdout",
     "output_type": "stream",
     "text": [
      "The r-value is: -0.8432519394640452\n"
     ]
    },
    {
     "data": {
      "image/png": "[encoded data removed]",
      "text/plain": [
       "<Figure size 648x576 with 1 Axes>"
      ]
     },
     "metadata": {
      "needs_background": "light"
     },
     "output_type": "display_data"
    }
   ],
   "source": [
    "# Add the linear regression equation and line to plot\n",
    "north_hemi = clean_humidity.loc[clean_humidity['Lat']>= 0]\n",
    "x_values = north_hemi['Lat']\n",
    "y_values = north_hemi['Max Temp']\n",
    "(slope, intercept, rvalue, pvalue, stderr) = linregress(x_values, y_values)\n",
    "regress_values = x_values * slope + intercept\n",
    "line_eq = \"y = \" + str(round(slope,2)) + \"x + \" + str(round(intercept,2))\n",
    "\n",
    "plt.figure(figsize=(9,8))\n",
    "plt.scatter(x_values,y_values)\n",
    "plt.plot(x_values,regress_values,\"r-\")\n",
    "plt.annotate(line_eq,(10, 250),fontsize=15,color=\"red\")\n",
    "plt.xlabel('Latitude')\n",
    "plt.ylabel('Max Temp')\n",
    "print(f\"The r-value is: {rvalue}\")\n",
    "plt.show()\n",
    "\n",
    "\n",
    "#north_hemi"
   ]
  },
  {
   "cell_type": "markdown",
   "metadata": {},
   "source": [
    "####  Southern Hemisphere - Max Temp vs. Latitude Linear Regression"
   ]
  },
  {
   "cell_type": "code",
   "execution_count": null,
   "metadata": {},
   "outputs": [],
   "source": []
  },
  {
   "cell_type": "markdown",
   "metadata": {},
   "source": [
    "####  Northern Hemisphere - Humidity (%) vs. Latitude Linear Regression"
   ]
  },
  {
   "cell_type": "code",
   "execution_count": null,
   "metadata": {},
   "outputs": [],
   "source": []
  },
  {
   "cell_type": "markdown",
   "metadata": {},
   "source": [
    "####  Southern Hemisphere - Humidity (%) vs. Latitude Linear Regression"
   ]
  },
  {
   "cell_type": "code",
   "execution_count": null,
   "metadata": {},
   "outputs": [],
   "source": []
  },
  {
   "cell_type": "markdown",
   "metadata": {},
   "source": [
    "####  Northern Hemisphere - Cloudiness (%) vs. Latitude Linear Regression"
   ]
  },
  {
   "cell_type": "code",
   "execution_count": null,
   "metadata": {},
   "outputs": [],
   "source": []
  },
  {
   "cell_type": "markdown",
   "metadata": {},
   "source": [
    "####  Southern Hemisphere - Cloudiness (%) vs. Latitude Linear Regression"
   ]
  },
  {
   "cell_type": "code",
   "execution_count": null,
   "metadata": {},
   "outputs": [],
   "source": []
  },
  {
   "cell_type": "markdown",
   "metadata": {},
   "source": [
    "####  Northern Hemisphere - Wind Speed (mph) vs. Latitude Linear Regression"
   ]
  },
  {
   "cell_type": "code",
   "execution_count": null,
   "metadata": {},
   "outputs": [],
   "source": []
  },
  {
   "cell_type": "markdown",
   "metadata": {},
   "source": [
    "####  Southern Hemisphere - Wind Speed (mph) vs. Latitude Linear Regression"
   ]
  },
  {
   "cell_type": "code",
   "execution_count": null,
   "metadata": {},
   "outputs": [],
   "source": []
  },
  {
   "cell_type": "code",
   "execution_count": null,
   "metadata": {},
   "outputs": [],
   "source": []
  }
 ],
 "metadata": {
  "anaconda-cloud": {},
  "kernel_info": {
   "name": "python3"
  },
  "kernelspec": {
   "display_name": "Python 3",
   "language": "python",
   "name": "python3"
  },
  "language_info": {
   "codemirror_mode": {
    "name": "ipython",
    "version": 3
   },
   "file_extension": ".py",
   "mimetype": "text/x-python",
   "name": "python",
   "nbconvert_exporter": "python",
   "pygments_lexer": "ipython3",
   "version": "3.8.3"
  },
  "latex_envs": {
   "LaTeX_envs_menu_present": true,
   "autoclose": false,
   "autocomplete": true,
   "bibliofile": "biblio.bib",
   "cite_by": "apalike",
   "current_citInitial": 1,
   "eqLabelWithNumbers": true,
   "eqNumInitial": 1,
   "hotkeys": {
    "equation": "Ctrl-E",
    "itemize": "Ctrl-I"
   },
   "labels_anchors": false,
   "latex_user_defs": false,
   "report_style_numbering": false,
   "user_envs_cfg": false
  },
  "nteract": {
   "version": "0.12.3"
  }
 },
 "nbformat": 4,
 "nbformat_minor": 2
}
