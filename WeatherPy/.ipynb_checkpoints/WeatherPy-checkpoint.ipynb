{
 "cells": [
  {
   "cell_type": "markdown",
   "metadata": {},
   "source": [
    "# WeatherPy\n",
    "----\n",
    "\n",
    "#### Note\n",
    "* Instructions have been included for each segment. You do not have to follow them exactly, but they are included to help you think through the steps."
   ]
  },
  {
   "cell_type": "code",
   "execution_count": 1,
   "metadata": {
    "scrolled": true
   },
   "outputs": [],
   "source": [
    "# Dependencies and Setup\n",
    "import matplotlib.pyplot as plt\n",
    "import pandas as pd\n",
    "import numpy as np\n",
    "import requests\n",
    "import time\n",
    "import json\n",
    "from scipy.stats import linregress\n",
    "\n",
    "# Import API key\n",
    "from api_keys import weather_api_key\n",
    "\n",
    "# Incorporated citipy to determine city based on latitude and longitude\n",
    "from citipy import citipy\n",
    "\n",
    "\n",
    "\n",
    "# Output File (CSV)\n",
    "output_data_file = \"output_data/cities_new.csv\"\n",
    "\n",
    "# Range of latitudes and longitudes\n",
    "lat_range = (-90, 90)\n",
    "lng_range = (-180, 180)"
   ]
  },
  {
   "cell_type": "markdown",
   "metadata": {},
   "source": [
    "## Generate Cities List"
   ]
  },
  {
   "cell_type": "code",
   "execution_count": 2,
   "metadata": {},
   "outputs": [
    {
     "data": {
      "text/plain": [
       "612"
      ]
     },
     "execution_count": 2,
     "metadata": {},
     "output_type": "execute_result"
    }
   ],
   "source": [
    "# List for holding lat_lngs and cities\n",
    "lat_lngs = []\n",
    "cities = []\n",
    "\n",
    "# Create a set of random lat and lng combinations\n",
    "lats = np.random.uniform(lat_range[0], lat_range[1], size=1500)\n",
    "lngs = np.random.uniform(lng_range[0], lng_range[1], size=1500)\n",
    "lat_lngs = zip(lats, lngs)\n",
    "\n",
    "# Identify nearest city for each lat, lng combination\n",
    "for lat_lng in lat_lngs:\n",
    "    city = citipy.nearest_city(lat_lng[0], lat_lng[1]).city_name\n",
    "    \n",
    "    # If the city is unique, then add it to a our cities list\n",
    "    if city not in cities:\n",
    "        cities.append(city)\n",
    "\n",
    "# Print the city count to confirm sufficient count\n",
    "len(cities)"
   ]
  },
  {
   "cell_type": "code",
   "execution_count": 3,
   "metadata": {},
   "outputs": [],
   "source": [
    "# Save config information\n",
    "url = \"http://api.openweathermap.org/data/2.5/weather?\"\n",
    "\n",
    "#city = 'London'\n",
    "# Build query URL\n",
    "query_url = url + \"appid=\" + weather_api_key + \"&q=\""
   ]
  },
  {
   "cell_type": "code",
   "execution_count": 4,
   "metadata": {},
   "outputs": [
    {
     "name": "stdout",
     "output_type": "stream",
     "text": [
      "{\n",
      "    \"cod\": \"400\",\n",
      "    \"message\": \"Nothing to geocode\"\n",
      "}\n"
     ]
    }
   ],
   "source": [
    "# Get weather data\n",
    "\n",
    "weather_response = requests.get(query_url)\n",
    "weather_json = weather_response.json()\n",
    "print(json.dumps(weather_json, indent=4, sort_keys=True))"
   ]
  },
  {
   "cell_type": "markdown",
   "metadata": {},
   "source": [
    "### Perform API Calls\n",
    "* Perform a weather check on each city using a series of successive API calls.\n",
    "* Include a print log of each city as it'sbeing processed (with the city number and city name).\n"
   ]
  },
  {
   "cell_type": "code",
   "execution_count": null,
   "metadata": {
    "scrolled": true
   },
   "outputs": [
    {
     "name": "stdout",
     "output_type": "stream",
     "text": [
      "Beginning Data Retrieval\n",
      "----------------------------\n",
      "Processing Record 1 of Set 1 | sinop\n",
      "Processing Record 2 of Set 1 | oytal\n",
      "Processing Record 3 of Set 1 | yanam\n",
      "Processing Record 4 of Set 1 | namatanai\n",
      "Processing Record 5 of Set 1 | puerto ayora\n",
      "Processing Record 6 of Set 1 | clyde river\n",
      "Processing Record 7 of Set 1 | hilo\n",
      "Processing Record 8 of Set 1 | songea\n",
      "Processing Record 9 of Set 1 | kodiak\n",
      "Processing Record 10 of Set 1 | marawi\n",
      "Processing Record 11 of Set 1 | vestmannaeyjar\n",
      "Processing Record 12 of Set 1 | hithadhoo\n",
      "Processing Record 13 of Set 1 | kandrian\n",
      "Processing Record 14 of Set 1 | bethel\n",
      "Processing Record 15 of Set 1 | bluff\n",
      "Processing Record 16 of Set 1 | ushuaia\n",
      "Processing Record 17 of Set 1 | acapulco\n",
      "Processing Record 18 of Set 1 | te anau\n",
      "Processing Record 19 of Set 1 | port elizabeth\n",
      "Processing Record 20 of Set 1 | faanui\n",
      "Processing Record 21 of Set 1 | yelizovo\n",
      "Processing Record 22 of Set 1 | toma\n",
      "Processing Record 23 of Set 1 | bonavista\n",
      "Processing Record 24 of Set 1 | longyearbyen\n",
      "Processing Record 25 of Set 1 | vaini\n",
      "Processing Record 26 of Set 1 | cherskiy\n",
      "Processing Record 27 of Set 1 | punta arenas\n",
      "Processing Record 28 of Set 1 | busselton\n",
      "Processing Record 29 of Set 1 | barrow\n",
      "Processing Record 30 of Set 1 | beringovskiy\n",
      "It did not find the city.. go to the next!!\n",
      "Processing Record 31 of Set 1 | santiago del estero\n",
      "Processing Record 32 of Set 1 | lebu\n",
      "Processing Record 33 of Set 1 | muros\n",
      "Processing Record 34 of Set 1 | atbasar\n",
      "Processing Record 35 of Set 1 | dikson\n",
      "Processing Record 36 of Set 1 | batagay-alyta\n",
      "Processing Record 37 of Set 1 | pimentel\n",
      "It did not find the city.. go to the next!!\n",
      "Processing Record 38 of Set 1 | hermanus\n",
      "Processing Record 39 of Set 1 | san patricio\n",
      "Processing Record 40 of Set 1 | albany\n",
      "It did not find the city.. go to the next!!\n",
      "Processing Record 41 of Set 1 | castro\n",
      "Processing Record 42 of Set 1 | northam\n",
      "Processing Record 43 of Set 1 | mataura\n",
      "Processing Record 44 of Set 1 | cap malheureux\n",
      "Processing Record 45 of Set 1 | lompoc\n",
      "Processing Record 46 of Set 1 | broome\n",
      "Processing Record 47 of Set 1 | kavieng\n",
      "Processing Record 48 of Set 1 | egvekinot\n",
      "Processing Record 49 of Set 1 | khuzdar\n",
      "Processing Record 0 of Set 2 | rikitea\n",
      "Processing Record 1 of Set 2 | havelock\n",
      "Processing Record 2 of Set 2 | gimli\n",
      "Processing Record 3 of Set 2 | toba\n",
      "It did not find the city.. go to the next!!\n",
      "It did not find the city.. go to the next!!\n",
      "Processing Record 4 of Set 2 | upernavik\n",
      "Processing Record 5 of Set 2 | cabo san lucas\n",
      "Processing Record 6 of Set 2 | krasnoshchekovo\n",
      "Processing Record 7 of Set 2 | svetlaya\n",
      "Processing Record 8 of Set 2 | touros\n",
      "Processing Record 9 of Set 2 | thompson\n",
      "Processing Record 10 of Set 2 | yar-sale\n",
      "Processing Record 11 of Set 2 | lodja\n",
      "Processing Record 12 of Set 2 | ryde\n",
      "It did not find the city.. go to the next!!\n",
      "Processing Record 13 of Set 2 | garoua\n",
      "It did not find the city.. go to the next!!\n",
      "Processing Record 14 of Set 2 | atambua\n",
      "Processing Record 15 of Set 2 | boueni\n",
      "Processing Record 16 of Set 2 | srandakan\n",
      "Processing Record 17 of Set 2 | buchanan\n",
      "Processing Record 18 of Set 2 | souillac\n",
      "Processing Record 19 of Set 2 | bredasdorp\n",
      "Processing Record 20 of Set 2 | lagoa\n",
      "Processing Record 21 of Set 2 | caceres\n",
      "It did not find the city.. go to the next!!\n",
      "Processing Record 22 of Set 2 | pitimbu\n",
      "Processing Record 23 of Set 2 | port alfred\n",
      "Processing Record 24 of Set 2 | yellowknife\n",
      "Processing Record 25 of Set 2 | sao jose da coroa grande\n",
      "Processing Record 26 of Set 2 | klyuchi\n",
      "Processing Record 27 of Set 2 | katsuura\n",
      "Processing Record 28 of Set 2 | butaritari\n",
      "Processing Record 29 of Set 2 | ellensburg\n",
      "Processing Record 30 of Set 2 | sao joao da barra\n",
      "Processing Record 31 of Set 2 | copiapo\n",
      "Processing Record 32 of Set 2 | fortuna\n",
      "Processing Record 33 of Set 2 | la ronge\n",
      "Processing Record 34 of Set 2 | torbay\n",
      "Processing Record 35 of Set 2 | kapaa\n",
      "Processing Record 36 of Set 2 | makakilo city\n",
      "Processing Record 37 of Set 2 | amga\n",
      "Processing Record 38 of Set 2 | petropavlovsk-kamchatskiy\n",
      "Processing Record 39 of Set 2 | guerrero negro\n",
      "Processing Record 40 of Set 2 | pevek\n",
      "Processing Record 41 of Set 2 | qaanaaq\n",
      "Processing Record 42 of Set 2 | port alberni\n",
      "Processing Record 43 of Set 2 | oil city\n",
      "Processing Record 44 of Set 2 | sarangani\n",
      "Processing Record 45 of Set 2 | moussoro\n",
      "Processing Record 46 of Set 2 | kaitangata\n",
      "Processing Record 47 of Set 2 | bambous virieux\n",
      "Processing Record 48 of Set 2 | mahebourg\n",
      "Processing Record 49 of Set 2 | kalmunai\n",
      "It did not find the city.. go to the next!!\n",
      "Processing Record 0 of Set 3 | gibara\n",
      "Processing Record 1 of Set 3 | mount gambier\n",
      "Processing Record 2 of Set 3 | atuona\n",
      "Processing Record 3 of Set 3 | hudson bay\n",
      "Processing Record 4 of Set 3 | bulawayo\n",
      "Processing Record 5 of Set 3 | batemans bay\n",
      "Processing Record 6 of Set 3 | huron\n",
      "Processing Record 7 of Set 3 | new norfolk\n",
      "Processing Record 8 of Set 3 | kurilsk\n",
      "Processing Record 9 of Set 3 | klaksvik\n",
      "Processing Record 10 of Set 3 | adrar\n",
      "Processing Record 11 of Set 3 | hobart\n",
      "Processing Record 12 of Set 3 | saint-philippe\n",
      "Processing Record 13 of Set 3 | coihueco\n",
      "Processing Record 14 of Set 3 | talnakh\n",
      "Processing Record 15 of Set 3 | tuktoyaktuk\n",
      "Processing Record 16 of Set 3 | airai\n",
      "Processing Record 17 of Set 3 | kieta\n",
      "Processing Record 18 of Set 3 | fort payne\n",
      "Processing Record 19 of Set 3 | high level\n",
      "Processing Record 20 of Set 3 | sistranda\n",
      "Processing Record 21 of Set 3 | alofi\n",
      "Processing Record 22 of Set 3 | leningradskiy\n",
      "Processing Record 23 of Set 3 | gemena\n",
      "Processing Record 24 of Set 3 | bathsheba\n",
      "Processing Record 25 of Set 3 | tineo\n",
      "Processing Record 26 of Set 3 | mariental\n",
      "Processing Record 27 of Set 3 | ushtobe\n",
      "Processing Record 28 of Set 3 | akyab\n",
      "Processing Record 29 of Set 3 | neuquen\n",
      "It did not find the city.. go to the next!!\n",
      "Processing Record 30 of Set 3 | sobolevo\n",
      "Processing Record 31 of Set 3 | hasaki\n",
      "Processing Record 32 of Set 3 | najran\n",
      "Processing Record 33 of Set 3 | lima\n",
      "Processing Record 34 of Set 3 | matamoros\n",
      "Processing Record 35 of Set 3 | baker city\n",
      "Processing Record 36 of Set 3 | khatanga\n",
      "Processing Record 37 of Set 3 | san angelo\n",
      "Processing Record 38 of Set 3 | pamfila\n",
      "Processing Record 39 of Set 3 | bozeman\n",
      "Processing Record 40 of Set 3 | raga\n",
      "Processing Record 41 of Set 3 | carnarvon\n",
      "Processing Record 42 of Set 3 | monrovia\n",
      "Processing Record 43 of Set 3 | halmeu\n",
      "Processing Record 44 of Set 3 | stutterheim\n",
      "Processing Record 45 of Set 3 | ponta do sol\n",
      "Processing Record 46 of Set 3 | vilcun\n",
      "Processing Record 47 of Set 3 | cockburn town\n",
      "It did not find the city.. go to the next!!\n",
      "Processing Record 48 of Set 3 | arraial do cabo\n",
      "Processing Record 49 of Set 3 | saint anthony\n",
      "It did not find the city.. go to the next!!\n",
      "Processing Record 0 of Set 4 | yeppoon\n",
      "Processing Record 1 of Set 4 | constitucion\n",
      "Processing Record 2 of Set 4 | tiznit\n",
      "Processing Record 3 of Set 4 | barcelona\n",
      "Processing Record 4 of Set 4 | bezhetsk\n",
      "Processing Record 5 of Set 4 | port-gentil\n",
      "Processing Record 6 of Set 4 | wadena\n",
      "Processing Record 7 of Set 4 | husavik\n",
      "Processing Record 8 of Set 4 | escuinapa\n",
      "Processing Record 9 of Set 4 | santa fe\n",
      "Processing Record 10 of Set 4 | cidreira\n",
      "Processing Record 11 of Set 4 | lavrentiya\n",
      "Processing Record 12 of Set 4 | kuusamo\n",
      "Processing Record 13 of Set 4 | dawlatabad\n",
      "Processing Record 14 of Set 4 | saskylakh\n",
      "Processing Record 15 of Set 4 | wufeng\n",
      "Processing Record 16 of Set 4 | evensk\n",
      "Processing Record 17 of Set 4 | norman wells\n",
      "It did not find the city.. go to the next!!\n",
      "Processing Record 18 of Set 4 | mar del plata\n",
      "Processing Record 19 of Set 4 | porto novo\n",
      "Processing Record 20 of Set 4 | zeya\n",
      "It did not find the city.. go to the next!!\n",
      "Processing Record 21 of Set 4 | zarubino\n",
      "Processing Record 22 of Set 4 | portland\n",
      "Processing Record 23 of Set 4 | pingdu\n",
      "Processing Record 24 of Set 4 | bilma\n",
      "It did not find the city.. go to the next!!\n",
      "Processing Record 25 of Set 4 | chuy\n",
      "Processing Record 26 of Set 4 | vilhena\n",
      "Processing Record 27 of Set 4 | nanortalik\n",
      "Processing Record 28 of Set 4 | jamestown\n",
      "Processing Record 29 of Set 4 | mehamn\n",
      "Processing Record 30 of Set 4 | kendari\n",
      "Processing Record 31 of Set 4 | meulaboh\n",
      "Processing Record 32 of Set 4 | strezhevoy\n"
     ]
    },
    {
     "name": "stdout",
     "output_type": "stream",
     "text": [
      "Processing Record 33 of Set 4 | kavaratti\n",
      "Processing Record 34 of Set 4 | saint-pierre\n",
      "Processing Record 35 of Set 4 | mecca\n",
      "Processing Record 36 of Set 4 | tasiilaq\n",
      "Processing Record 37 of Set 4 | chickasha\n",
      "Processing Record 38 of Set 4 | mobaye\n",
      "Processing Record 39 of Set 4 | cape town\n",
      "Processing Record 40 of Set 4 | victoria\n",
      "Processing Record 41 of Set 4 | daru\n",
      "Processing Record 42 of Set 4 | cabedelo\n",
      "Processing Record 43 of Set 4 | ca mau\n",
      "It did not find the city.. go to the next!!\n",
      "Processing Record 44 of Set 4 | east london\n",
      "Processing Record 45 of Set 4 | yagodnoye\n",
      "Processing Record 46 of Set 4 | manadhoo\n",
      "Processing Record 47 of Set 4 | rawson\n",
      "Processing Record 48 of Set 4 | sorong\n",
      "Processing Record 49 of Set 4 | sao filipe\n",
      "It did not find the city.. go to the next!!\n",
      "Processing Record 0 of Set 5 | oussouye\n",
      "It did not find the city.. go to the next!!\n",
      "Processing Record 1 of Set 5 | tabou\n",
      "Processing Record 2 of Set 5 | san cristobal\n",
      "Processing Record 3 of Set 5 | hay river\n",
      "Processing Record 4 of Set 5 | binabalian\n",
      "Processing Record 5 of Set 5 | salalah\n",
      "Processing Record 6 of Set 5 | avarua\n",
      "Processing Record 7 of Set 5 | westport\n",
      "Processing Record 8 of Set 5 | la carolina\n",
      "Processing Record 9 of Set 5 | babylon\n",
      "It did not find the city.. go to the next!!\n",
      "Processing Record 10 of Set 5 | vung tau\n",
      "Processing Record 11 of Set 5 | quballat\n",
      "It did not find the city.. go to the next!!\n",
      "Processing Record 12 of Set 5 | pangai\n",
      "Processing Record 13 of Set 5 | monterey\n",
      "Processing Record 14 of Set 5 | joshimath\n",
      "It did not find the city.. go to the next!!\n",
      "Processing Record 15 of Set 5 | houma\n",
      "Processing Record 16 of Set 5 | biak\n",
      "Processing Record 17 of Set 5 | high rock\n",
      "Processing Record 18 of Set 5 | terrace\n",
      "Processing Record 19 of Set 5 | mayumba\n",
      "Processing Record 20 of Set 5 | esperance\n",
      "It did not find the city.. go to the next!!\n",
      "Processing Record 21 of Set 5 | ivanava\n",
      "Processing Record 22 of Set 5 | kitgum\n",
      "Processing Record 23 of Set 5 | lalmohan\n",
      "Processing Record 24 of Set 5 | erdenet\n",
      "It did not find the city.. go to the next!!\n",
      "Processing Record 25 of Set 5 | omboue\n",
      "Processing Record 26 of Set 5 | port hardy\n",
      "Processing Record 27 of Set 5 | tura\n",
      "It did not find the city.. go to the next!!\n",
      "Processing Record 28 of Set 5 | georgetown\n",
      "Processing Record 29 of Set 5 | necochea\n",
      "Processing Record 30 of Set 5 | bennington\n",
      "Processing Record 31 of Set 5 | talcahuano\n",
      "Processing Record 32 of Set 5 | port hawkesbury\n",
      "Processing Record 33 of Set 5 | kiunga\n"
     ]
    }
   ],
   "source": [
    "City = []\n",
    "Lat = []\n",
    "Lng = []\n",
    "MaxTemp = []\n",
    "Humidity = []\n",
    "Cloudiness = []\n",
    "WindSpeed = []\n",
    "Country = []\n",
    "date =[]\n",
    "\n",
    "\n",
    "print(\"Beginning Data Retrieval\")\n",
    "print(\"----------------------------\")\n",
    "counter = 1\n",
    "set = 1\n",
    "for city in cities:\n",
    "    \n",
    "    try: \n",
    "        weather_response = requests.get(query_url+city).json()\n",
    "\n",
    "        City.append(weather_response[\"name\"])\n",
    "        Lat.append(weather_response[\"coord\"][\"lat\"])\n",
    "        Lng.append(weather_response[\"coord\"][\"lon\"])\n",
    "        MaxTemp.append(weather_response[\"main\"][\"temp_max\"])\n",
    "        Humidity.append(weather_response[\"main\"][\"humidity\"])\n",
    "        Cloudiness.append(weather_response[\"clouds\"]['all'])\n",
    "        WindSpeed.append(weather_response[\"wind\"][\"speed\"])\n",
    "        Country.append(weather_response[\"sys\"][\"country\"])\n",
    "        date.append(weather_response[\"dt\"])\n",
    "        print(f'Processing Record {counter} of Set {set} | {city}')\n",
    "        counter = counter + 1\n",
    "        if (counter == 50):\n",
    "            counter = 0\n",
    "            set = set+1\n",
    "    except:\n",
    "        print(\"It did not find the city.. go to the next!!\")\n",
    "        continue  \n",
    "print (\"-----------------------------\")\n",
    "print(\"Data Retrieval Complete\")      \n",
    "print(\"-----------------------------\")    "
   ]
  },
  {
   "cell_type": "markdown",
   "metadata": {},
   "source": [
    "### Convert Raw Data to DataFrame\n",
    "* Export the city data into a .csv.\n",
    "* Display the DataFrame"
   ]
  },
  {
   "cell_type": "code",
   "execution_count": null,
   "metadata": {},
   "outputs": [],
   "source": [
    "main_df = pd.DataFrame({\n",
    "    \"City\":City, 'Lat':Lat, 'Lng':Lng, 'Max Temp':MaxTemp,'Humidity':Humidity, \n",
    "    'Cloudiness':Cloudiness, 'Wind Speed':WindSpeed, 'Country':Country, 'Date':date\n",
    "    })\n",
    "main_df"
   ]
  },
  {
   "cell_type": "markdown",
   "metadata": {},
   "source": [
    "## Inspect the data and remove the cities where the humidity > 100%.\n",
    "----\n",
    "Skip this step if there are no cities that have humidity > 100%. "
   ]
  },
  {
   "cell_type": "code",
   "execution_count": null,
   "metadata": {},
   "outputs": [],
   "source": [
    "main_df['Humidity'].describe()\n",
    "humidity_more100 = main_df.loc[main_df[\"Humidity\"] ==100].index\n",
    "humidity_more100\n",
    "\n",
    "main_df['Humidity'].describe()"
   ]
  },
  {
   "cell_type": "code",
   "execution_count": null,
   "metadata": {},
   "outputs": [],
   "source": [
    "#  Get the indices of cities that have humidity over 100%.\n",
    "humidity_more100_opt2 = main_df[main_df[\"Humidity\"] >100].index\n",
    "humidity_more100_opt2\n",
    "# base on the my code above.. there is no city with humidity greater than 100"
   ]
  },
  {
   "cell_type": "code",
   "execution_count": null,
   "metadata": {},
   "outputs": [],
   "source": [
    "# Make a new DataFrame equal to the city data to drop all humidity outliers by index.\n",
    "# Passing \"inplace=False\" will make a copy of the city_data DataFrame, which we call \"clean_city_data\".\n"
   ]
  },
  {
   "cell_type": "code",
   "execution_count": null,
   "metadata": {},
   "outputs": [],
   "source": [
    "clean_humidity = main_df.drop(humidity_more100, inplace = False)\n",
    "\n",
    "clean_humidity[\"Humidity\"].describe()\n"
   ]
  },
  {
   "cell_type": "markdown",
   "metadata": {},
   "source": [
    "## Plotting the Data\n",
    "* Use proper labeling of the plots using plot titles (including date of analysis) and axes labels.\n",
    "* Save the plotted figures as .pngs."
   ]
  },
  {
   "cell_type": "markdown",
   "metadata": {},
   "source": [
    "## Latitude vs. Temperature Plot"
   ]
  },
  {
   "cell_type": "code",
   "execution_count": null,
   "metadata": {
    "scrolled": true
   },
   "outputs": [],
   "source": []
  },
  {
   "cell_type": "markdown",
   "metadata": {},
   "source": [
    "## Latitude vs. Humidity Plot"
   ]
  },
  {
   "cell_type": "code",
   "execution_count": null,
   "metadata": {},
   "outputs": [],
   "source": []
  },
  {
   "cell_type": "markdown",
   "metadata": {},
   "source": [
    "## Latitude vs. Cloudiness Plot"
   ]
  },
  {
   "cell_type": "code",
   "execution_count": null,
   "metadata": {},
   "outputs": [],
   "source": []
  },
  {
   "cell_type": "markdown",
   "metadata": {},
   "source": [
    "## Latitude vs. Wind Speed Plot"
   ]
  },
  {
   "cell_type": "code",
   "execution_count": null,
   "metadata": {},
   "outputs": [],
   "source": []
  },
  {
   "cell_type": "markdown",
   "metadata": {},
   "source": [
    "## Linear Regression"
   ]
  },
  {
   "cell_type": "code",
   "execution_count": null,
   "metadata": {},
   "outputs": [],
   "source": []
  },
  {
   "cell_type": "markdown",
   "metadata": {},
   "source": [
    "####  Northern Hemisphere - Max Temp vs. Latitude Linear Regression"
   ]
  },
  {
   "cell_type": "code",
   "execution_count": null,
   "metadata": {},
   "outputs": [],
   "source": []
  },
  {
   "cell_type": "markdown",
   "metadata": {},
   "source": [
    "####  Southern Hemisphere - Max Temp vs. Latitude Linear Regression"
   ]
  },
  {
   "cell_type": "code",
   "execution_count": null,
   "metadata": {},
   "outputs": [],
   "source": []
  },
  {
   "cell_type": "markdown",
   "metadata": {},
   "source": [
    "####  Northern Hemisphere - Humidity (%) vs. Latitude Linear Regression"
   ]
  },
  {
   "cell_type": "code",
   "execution_count": null,
   "metadata": {},
   "outputs": [],
   "source": []
  },
  {
   "cell_type": "markdown",
   "metadata": {},
   "source": [
    "####  Southern Hemisphere - Humidity (%) vs. Latitude Linear Regression"
   ]
  },
  {
   "cell_type": "code",
   "execution_count": null,
   "metadata": {},
   "outputs": [],
   "source": []
  },
  {
   "cell_type": "markdown",
   "metadata": {},
   "source": [
    "####  Northern Hemisphere - Cloudiness (%) vs. Latitude Linear Regression"
   ]
  },
  {
   "cell_type": "code",
   "execution_count": null,
   "metadata": {},
   "outputs": [],
   "source": []
  },
  {
   "cell_type": "markdown",
   "metadata": {},
   "source": [
    "####  Southern Hemisphere - Cloudiness (%) vs. Latitude Linear Regression"
   ]
  },
  {
   "cell_type": "code",
   "execution_count": null,
   "metadata": {},
   "outputs": [],
   "source": []
  },
  {
   "cell_type": "markdown",
   "metadata": {},
   "source": [
    "####  Northern Hemisphere - Wind Speed (mph) vs. Latitude Linear Regression"
   ]
  },
  {
   "cell_type": "code",
   "execution_count": null,
   "metadata": {},
   "outputs": [],
   "source": []
  },
  {
   "cell_type": "markdown",
   "metadata": {},
   "source": [
    "####  Southern Hemisphere - Wind Speed (mph) vs. Latitude Linear Regression"
   ]
  },
  {
   "cell_type": "code",
   "execution_count": null,
   "metadata": {},
   "outputs": [],
   "source": []
  },
  {
   "cell_type": "code",
   "execution_count": null,
   "metadata": {},
   "outputs": [],
   "source": []
  }
 ],
 "metadata": {
  "anaconda-cloud": {},
  "kernel_info": {
   "name": "python3"
  },
  "kernelspec": {
   "display_name": "Python 3",
   "language": "python",
   "name": "python3"
  },
  "language_info": {
   "codemirror_mode": {
    "name": "ipython",
    "version": 3
   },
   "file_extension": ".py",
   "mimetype": "text/x-python",
   "name": "python",
   "nbconvert_exporter": "python",
   "pygments_lexer": "ipython3",
   "version": "3.8.3"
  },
  "latex_envs": {
   "LaTeX_envs_menu_present": true,
   "autoclose": false,
   "autocomplete": true,
   "bibliofile": "biblio.bib",
   "cite_by": "apalike",
   "current_citInitial": 1,
   "eqLabelWithNumbers": true,
   "eqNumInitial": 1,
   "hotkeys": {
    "equation": "Ctrl-E",
    "itemize": "Ctrl-I"
   },
   "labels_anchors": false,
   "latex_user_defs": false,
   "report_style_numbering": false,
   "user_envs_cfg": false
  },
  "nteract": {
   "version": "0.12.3"
  }
 },
 "nbformat": 4,
 "nbformat_minor": 2
}
